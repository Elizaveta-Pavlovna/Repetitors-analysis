{
 "cells": [
  {
   "cell_type": "code",
   "execution_count": 59,
   "id": "6ca25a65",
   "metadata": {},
   "outputs": [],
   "source": [
    "import numpy as np\n",
    "import pandas as pd\n",
    "import seaborn as sns\n",
    "import re\n",
    "%matplotlib inline\n",
    "import matplotlib.pyplot as plt\n",
    "\n",
    "from sklearn.utils import shuffle\n",
    "import nltk\n",
    "from nltk.corpus import stopwords\n",
    "\n",
    "from pymorphy2 import MorphAnalyzer\n",
    "from sklearn.feature_extraction.text import TfidfVectorizer\n",
    "from sklearn.pipeline import Pipeline\n",
    "\n",
    "from wordcloud import WordCloud\n",
    "import matplotlib.pyplot as plt\n",
    "\n",
    "from sklearn.model_selection import train_test_split\n",
    "from sklearn.naive_bayes import GaussianNB\n",
    "from sklearn.linear_model import LogisticRegression\n",
    "from sklearn.naive_bayes import ComplementNB\n",
    "from sklearn.tree import DecisionTreeClassifier\n",
    "from sklearn.ensemble import RandomForestClassifier\n",
    "from sklearn.ensemble import GradientBoostingClassifier\n",
    "from sklearn.ensemble import AdaBoostClassifier\n",
    "from sklearn.metrics import precision_score, recall_score, f1_score,accuracy_score\n",
    "\n",
    "from sklearn.model_selection import GridSearchCV"
   ]
  },
  {
   "cell_type": "markdown",
   "id": "0ef1d0c4",
   "metadata": {},
   "source": [
    "# Данные"
   ]
  },
  {
   "cell_type": "markdown",
   "id": "f921b759",
   "metadata": {},
   "source": [
    "## Чтение"
   ]
  },
  {
   "cell_type": "code",
   "execution_count": 60,
   "id": "cc07972b",
   "metadata": {},
   "outputs": [],
   "source": [
    "comments_msk = pd.read_csv('data/data_msk.csv', sep=',', decimal=\",\")\n",
    "comments_msk = comments_msk.drop(columns = ['commentsLink', ' index'], axis=1)\n",
    "\n",
    "comments_spb = pd.read_csv('data/data_spb.csv', sep=',', decimal=\",\")\n",
    "comments_spb = comments_spb.drop(columns = ['commentsLink', ' index'], axis=1)\n",
    "\n",
    "comments_ekt = pd.read_csv('data/data_ekt.csv', sep=',', decimal=\",\")\n",
    "comments_ekt = comments_ekt.drop(columns = ['commentsLink', ' index'], axis=1)\n",
    "\n",
    "comments_ksdr = pd.read_csv('data/data_ksdr.csv', sep=',', decimal=\",\")\n",
    "comments_ksdr = comments_ksdr.drop(columns = ['commentsLink', ' index'], axis=1)\n",
    "\n",
    "comments_kzn = pd.read_csv('data/data_kzn.csv', sep=',', decimal=\",\")\n",
    "comments_kzn = comments_kzn.drop(columns = ['commentsLink', ' index'], axis=1)\n",
    "\n",
    "comments_nnov = pd.read_csv('data/data_nnov.csv', sep=',', decimal=\",\")\n",
    "comments_nnov = comments_nnov.drop(columns = ['commentsLink', ' index'], axis=1)\n",
    "\n",
    "comments_rnd = pd.read_csv('data/data_rnd.csv', sep=',', decimal=\",\")\n",
    "comments_rnd = comments_rnd.drop(columns = ['commentsLink', ' index'], axis=1)"
   ]
  },
  {
   "cell_type": "code",
   "execution_count": 61,
   "id": "cfed7349",
   "metadata": {},
   "outputs": [
    {
     "data": {
      "text/html": [
       "<div>\n",
       "<style scoped>\n",
       "    .dataframe tbody tr th:only-of-type {\n",
       "        vertical-align: middle;\n",
       "    }\n",
       "\n",
       "    .dataframe tbody tr th {\n",
       "        vertical-align: top;\n",
       "    }\n",
       "\n",
       "    .dataframe thead th {\n",
       "        text-align: right;\n",
       "    }\n",
       "</style>\n",
       "<table border=\"1\" class=\"dataframe\">\n",
       "  <thead>\n",
       "    <tr style=\"text-align: right;\">\n",
       "      <th></th>\n",
       "      <th>comment</th>\n",
       "      <th>mark</th>\n",
       "    </tr>\n",
       "  </thead>\n",
       "  <tbody>\n",
       "    <tr>\n",
       "      <th>0</th>\n",
       "      <td>Преподаватель находит индивидуальный подход п...</td>\n",
       "      <td>Оценка: 5+.</td>\n",
       "    </tr>\n",
       "    <tr>\n",
       "      <th>1</th>\n",
       "      <td>Плюсы: Анна Валерьевна обязательна компетентн...</td>\n",
       "      <td>Оценка: 5.</td>\n",
       "    </tr>\n",
       "    <tr>\n",
       "      <th>2</th>\n",
       "      <td>СПАСИБО Анна Валерьевна! Сдали хорошо ЕГЭ. С ...</td>\n",
       "      <td>Оценка: 5.</td>\n",
       "    </tr>\n",
       "    <tr>\n",
       "      <th>3</th>\n",
       "      <td>50 % успеха - наличие контакта с преподавател...</td>\n",
       "      <td>Оценка: 5+.</td>\n",
       "    </tr>\n",
       "    <tr>\n",
       "      <th>4</th>\n",
       "      <td>Анна Валерьевна является не только уникальным...</td>\n",
       "      <td>Оценка: 5+.</td>\n",
       "    </tr>\n",
       "    <tr>\n",
       "      <th>...</th>\n",
       "      <td>...</td>\n",
       "      <td>...</td>\n",
       "    </tr>\n",
       "    <tr>\n",
       "      <th>7223</th>\n",
       "      <td>С Марией Николаевной мы занимаемся не так час...</td>\n",
       "      <td>Оценка: 5.</td>\n",
       "    </tr>\n",
       "    <tr>\n",
       "      <th>7224</th>\n",
       "      <td>Хорошо. Она хорошо преподает. Понятно  доступ...</td>\n",
       "      <td>Оценка: 5.</td>\n",
       "    </tr>\n",
       "    <tr>\n",
       "      <th>7225</th>\n",
       "      <td>В принципе  все положительно. Замечательный п...</td>\n",
       "      <td>Оценка: 5.</td>\n",
       "    </tr>\n",
       "    <tr>\n",
       "      <th>7226</th>\n",
       "      <td>Мы занимаемся до сих пор. Впечатления положит...</td>\n",
       "      <td>Оценка: 5.</td>\n",
       "    </tr>\n",
       "    <tr>\n",
       "      <th>7227</th>\n",
       "      <td>Работа репетитора понравилась  замечаний нет....</td>\n",
       "      <td>Оценка: 5.</td>\n",
       "    </tr>\n",
       "  </tbody>\n",
       "</table>\n",
       "<p>132689 rows × 2 columns</p>\n",
       "</div>"
      ],
      "text/plain": [
       "                                                comment          mark\n",
       "0      Преподаватель находит индивидуальный подход п...   Оценка: 5+.\n",
       "1      Плюсы: Анна Валерьевна обязательна компетентн...    Оценка: 5.\n",
       "2      СПАСИБО Анна Валерьевна! Сдали хорошо ЕГЭ. С ...    Оценка: 5.\n",
       "3      50 % успеха - наличие контакта с преподавател...   Оценка: 5+.\n",
       "4      Анна Валерьевна является не только уникальным...   Оценка: 5+.\n",
       "...                                                 ...           ...\n",
       "7223   С Марией Николаевной мы занимаемся не так час...    Оценка: 5.\n",
       "7224   Хорошо. Она хорошо преподает. Понятно  доступ...    Оценка: 5.\n",
       "7225   В принципе  все положительно. Замечательный п...    Оценка: 5.\n",
       "7226   Мы занимаемся до сих пор. Впечатления положит...    Оценка: 5.\n",
       "7227   Работа репетитора понравилась  замечаний нет....    Оценка: 5.\n",
       "\n",
       "[132689 rows x 2 columns]"
      ]
     },
     "execution_count": 61,
     "metadata": {},
     "output_type": "execute_result"
    }
   ],
   "source": [
    "comments = pd.concat([\n",
    "    comments_msk,\n",
    "    comments_spb,\n",
    "    comments_ekt,\n",
    "    comments_ksdr,\n",
    "    comments_kzn,\n",
    "    comments_nnov,\n",
    "    comments_rnd\n",
    "    ], axis=0)\n",
    "comments"
   ]
  },
  {
   "cell_type": "markdown",
   "id": "e8c62e37",
   "metadata": {},
   "source": [
    "## Разбиение на классы"
   ]
  },
  {
   "cell_type": "code",
   "execution_count": 62,
   "id": "13c03494",
   "metadata": {},
   "outputs": [],
   "source": [
    "comments = comments.reset_index(drop=True)"
   ]
  },
  {
   "cell_type": "code",
   "execution_count": 63,
   "id": "77a2369a",
   "metadata": {},
   "outputs": [],
   "source": [
    "comments.rename(columns = {' comment' : 'comment', ' mark' : 'mark'}, inplace = True )"
   ]
  },
  {
   "cell_type": "code",
   "execution_count": 64,
   "id": "cdd2f404",
   "metadata": {},
   "outputs": [
    {
     "data": {
      "text/plain": [
       "array([' Оценка: 1.', ' Оценка: 2.', ' Оценка: 3+.', ' Оценка: 3.',\n",
       "       ' Оценка: 3−.', ' Оценка: 4+.', ' Оценка: 4.', ' Оценка: 4−.',\n",
       "       ' Оценка: 5+.', ' Оценка: 5.', ' Оценка: 5−.'], dtype=object)"
      ]
     },
     "execution_count": 64,
     "metadata": {},
     "output_type": "execute_result"
    }
   ],
   "source": [
    "np.unique(comments['mark'])"
   ]
  },
  {
   "cell_type": "code",
   "execution_count": 65,
   "id": "78f91ebe",
   "metadata": {},
   "outputs": [
    {
     "data": {
      "text/html": [
       "<div>\n",
       "<style scoped>\n",
       "    .dataframe tbody tr th:only-of-type {\n",
       "        vertical-align: middle;\n",
       "    }\n",
       "\n",
       "    .dataframe tbody tr th {\n",
       "        vertical-align: top;\n",
       "    }\n",
       "\n",
       "    .dataframe thead th {\n",
       "        text-align: right;\n",
       "    }\n",
       "</style>\n",
       "<table border=\"1\" class=\"dataframe\">\n",
       "  <thead>\n",
       "    <tr style=\"text-align: right;\">\n",
       "      <th></th>\n",
       "      <th>comment</th>\n",
       "    </tr>\n",
       "    <tr>\n",
       "      <th>mark</th>\n",
       "      <th></th>\n",
       "    </tr>\n",
       "  </thead>\n",
       "  <tbody>\n",
       "    <tr>\n",
       "      <th>Оценка: 1.</th>\n",
       "      <td>180</td>\n",
       "    </tr>\n",
       "    <tr>\n",
       "      <th>Оценка: 2.</th>\n",
       "      <td>601</td>\n",
       "    </tr>\n",
       "    <tr>\n",
       "      <th>Оценка: 3+.</th>\n",
       "      <td>152</td>\n",
       "    </tr>\n",
       "    <tr>\n",
       "      <th>Оценка: 3.</th>\n",
       "      <td>969</td>\n",
       "    </tr>\n",
       "    <tr>\n",
       "      <th>Оценка: 3−.</th>\n",
       "      <td>182</td>\n",
       "    </tr>\n",
       "    <tr>\n",
       "      <th>Оценка: 4+.</th>\n",
       "      <td>1446</td>\n",
       "    </tr>\n",
       "    <tr>\n",
       "      <th>Оценка: 4.</th>\n",
       "      <td>3195</td>\n",
       "    </tr>\n",
       "    <tr>\n",
       "      <th>Оценка: 4−.</th>\n",
       "      <td>441</td>\n",
       "    </tr>\n",
       "    <tr>\n",
       "      <th>Оценка: 5+.</th>\n",
       "      <td>56243</td>\n",
       "    </tr>\n",
       "    <tr>\n",
       "      <th>Оценка: 5.</th>\n",
       "      <td>67023</td>\n",
       "    </tr>\n",
       "    <tr>\n",
       "      <th>Оценка: 5−.</th>\n",
       "      <td>1343</td>\n",
       "    </tr>\n",
       "  </tbody>\n",
       "</table>\n",
       "</div>"
      ],
      "text/plain": [
       "              comment\n",
       "mark                 \n",
       " Оценка: 1.       180\n",
       " Оценка: 2.       601\n",
       " Оценка: 3+.      152\n",
       " Оценка: 3.       969\n",
       " Оценка: 3−.      182\n",
       " Оценка: 4+.     1446\n",
       " Оценка: 4.      3195\n",
       " Оценка: 4−.      441\n",
       " Оценка: 5+.    56243\n",
       " Оценка: 5.     67023\n",
       " Оценка: 5−.     1343"
      ]
     },
     "execution_count": 65,
     "metadata": {},
     "output_type": "execute_result"
    }
   ],
   "source": [
    "comments.groupby('mark').nunique()"
   ]
  },
  {
   "cell_type": "markdown",
   "id": "4fb9eead",
   "metadata": {},
   "source": [
    "Так как классов слишком много и они очень несбалансированные, объединим их в группы классов - 2,3,4,5 следующим образом:"
   ]
  },
  {
   "cell_type": "code",
   "execution_count": 66,
   "id": "1da7d8bd",
   "metadata": {},
   "outputs": [],
   "source": [
    "comments.loc[(comments['mark'] == ' Оценка: 5.'), 'mark'] = 5\n",
    "comments.loc[(comments['mark'] == ' Оценка: 5+.'), 'mark'] = 5\n",
    "\n",
    "comments.loc[(comments['mark'] == ' Оценка: 5−.'), 'mark'] = 4\n",
    "comments.loc[(comments['mark'] == ' Оценка: 4.'), 'mark'] = 4\n",
    "comments.loc[(comments['mark'] == ' Оценка: 4+.'), 'mark'] = 4\n",
    "\n",
    "comments.loc[(comments['mark'] == ' Оценка: 4−.'), 'mark'] = 3\n",
    "comments.loc[(comments['mark'] == ' Оценка: 3.'), 'mark'] = 3\n",
    "comments.loc[(comments['mark'] == ' Оценка: 3+.'), 'mark'] = 3\n",
    "\n",
    "comments.loc[(comments['mark'] == ' Оценка: 3−.'), 'mark'] = 2\n",
    "comments.loc[(comments['mark'] == ' Оценка: 2.'), 'mark'] = 2\n",
    "comments.loc[(comments['mark'] == ' Оценка: 1.'), 'mark'] = 2"
   ]
  },
  {
   "cell_type": "markdown",
   "id": "9004b8f7",
   "metadata": {},
   "source": [
    "Примеры отзывов с оценкой 5 и 2:"
   ]
  },
  {
   "cell_type": "code",
   "execution_count": 67,
   "id": "6b51baba",
   "metadata": {},
   "outputs": [
    {
     "name": "stdout",
     "output_type": "stream",
     "text": [
      " Преподаватель находит индивидуальный подход процесс обучения проходил отлично поставленной задачи достигли. \n",
      "\n",
      " Плюсы: Анна Валерьевна обязательна компетентна внимательна и хорошо нашла общий язык с моим сыном. Описание: Результатом занятий моего сына стало поступление в один из физико-математических лицеев куда мы планировали. Не смотря на то что мы поздно взялись готовиться и сын занимался всего месяц. И честно говоря я допускала что они не успеют освоить необходимый материал. Я очень благодарна Анне Валерьевне что она нам помогла. \n",
      "\n",
      " СПАСИБО Анна Валерьевна! Сдали хорошо ЕГЭ. С детьми на одной волне(слова сына). С родителями всегда на связи. Спасибо за занятия знания и поддержку. Рекомендуем!!! \n",
      "\n",
      " 50 % успеха - наличие контакта с преподавателем его желание работать с самыми разными уровнями подготовки и проблемами ученика не просто готовить к экзамену хороших ребят которые мотивированы и им необходимо помочь \"поднатаскать\" к сдаче а именно разбираться с проблемой не только на уровне предмета но и психологическим барьером ученика особенно если он ярко выраженный гуманитарий и не самый простой психотип; обладать не только хорошими знаниями но и быть способным передать эти знания найти индивидуальный подход к ученику искренне хотеть помочь ему. Все это - про АННУ! АННА-потрясающий преподаватель с уже ставшими редкостью душевными человеческими качествами она проживает вместе с учеником каждую его проблему радость наблюдает за ним не сдается ищет подход в самых казалось бы безнадежных ситуациях и в итоге приводит к результату! Сын получил 05 балла из 10-ти при тестировании в школу на грани был срыв сдачи ГИА математика для него - предмет \"с другой планеты\" все пробные тесты были на 2 балла. Огромный психологический барьер сложность с концентрацией особенно по предмету который совсем не давался. Благодаря работе и общению с Анной - пройдены на 4-ку тесты в новую школу сдача ГИА помощь в принципе в выборе вариантов новой школы и просто потрясающее общение! АННА - потрясающий очень интересный человек и не менее потрясающий преподаватель! АННА - СПАСИБО!!!!!!!!!!!!!! Вы в прямом смысле прожили с нами год как самый близкий человек понимающий и желающий помочь! Спасибо за поддержку и результат!!!!!!!!!!!!! Комментарий сына: \"Таких как Анна наверно в принципе нет! \" :) СПАСИБО \n",
      "\n",
      " Анна Валерьевна является не только уникальным педагогом  каких поискать нужно но и замечательной девушкой  с которой всегда интересно и приятно вести беседу. Я ей безгранично благодарна за ту работу  которую мы провели вместе. За два месяца до экзамена я решила серьезно начать подготовкой к математике.Долгие поиски не давали результатов но однажды я натолкнулась на анкету Анны Валерьевны и решила попробовать заниматься с ней и ничуть не пожалела. С самого первого занятия она зародила во мне интерес к этому предмету. Я шла на каждое новое занятие с великим удовольствие ! И вовсе невероятно  но за два месяца мы увеличили мой результат на 40 % . Я говорю мы  потому что этот человек искренни радовался достигнутым победам и делал все для их достижения. Я безумно рада  что на моем жизненном пути встретился такой человек ! \n",
      "\n"
     ]
    }
   ],
   "source": [
    "for i in comments.loc[(comments['mark'] == 5), 'comment'][:5]:\n",
    "    print(i, '\\n')"
   ]
  },
  {
   "cell_type": "code",
   "execution_count": 68,
   "id": "d779af02",
   "metadata": {},
   "outputs": [
    {
     "name": "stdout",
     "output_type": "stream",
     "text": [
      " Постоянно отвлекаеться на смс в телефоне  не корректно объясняет ту или инную тему на разбор заданий недостаточно уделяет время. \n",
      "\n",
      " Репетитор не понравился т. к. все 90 минут он смотрел в телефон или писал смс. Никакой заинтересованности в работе не проявил. Точно не наш вариант. \n",
      "\n",
      " Плюсы: Дистанционное обучение на сайте Невысокая цена обучения Минусы: Слишком много лишней информации в уроках Поменял основной язык программирования Решение большого количества задач в ручном режиме Описание: Я купил курс по информатике летом 2020 года (за 2 года до ЕГЭ). Прозанимавшись год на языке С++ в сентябре 2021 года Максим Юрьевич поменял его на Питон. Сейчас я понимаю что питон больше подходит для ЕГЭ. Но в результате год обучения потерян представляете! Слишком много времени было посвящено решению задач в ручном режиме как показала практика на ЕГЭ большинство задач нужно решать в программном режиме что гораздо быстрее и повышает точность результатов. В результате такого подхода мне не хватило времени на ЕГЭ для решения всех задач которые я мог бы решить. Не рекомендую Казакова Максима Юрьевича в качестве репетитора по информатике. \n",
      "\n",
      " Мой ребёнок категорически отказался заниматься математикой и физикой с Геннадием Валентиновичем. Он правда очень своеобразный человек да и я тоже была от него не в восторге! Я не увидела в нём заинтересованности в работе результатах своего ученика. Я наблюдала у него только денежный интерес. \n",
      "\n",
      " У меня нет особых впечатлений о работе репетитора потому что результатов так и не последовало после занятий с ним. Я не понимаю чем он вообще занимался на уроке. Роберт просил помочь ему с решением задач решение которых Геннадий Валентинович сам не знал тратя на них много времени чтобы самому понять и разобраться а потом просил еще и дополнительной оплаты за сверхурочную работу. Мальчик был конечно не в восторге от уроков. Я считаю что это не стоит таких денег. За 15 месяца обучения проблемы с математикой так и остались. Я очень разочарован сотрудничеством с данным специалистом. \n",
      "\n"
     ]
    }
   ],
   "source": [
    "for i in comments.loc[(comments['mark'] == 2), 'comment'][:5]:\n",
    "    print(i, '\\n')"
   ]
  },
  {
   "cell_type": "markdown",
   "id": "2f42e9bf",
   "metadata": {},
   "source": [
    "## Балансировка"
   ]
  },
  {
   "cell_type": "markdown",
   "id": "d600ad65",
   "metadata": {},
   "source": [
    "Случайно выберем и удалим большую часть данных с оценкой 5 для сбалансированности:"
   ]
  },
  {
   "cell_type": "code",
   "execution_count": 69,
   "id": "2d34e164",
   "metadata": {},
   "outputs": [],
   "source": [
    "comments = comments.sort_values(by = ['mark'])[:-110000]"
   ]
  },
  {
   "cell_type": "code",
   "execution_count": 70,
   "id": "6b02c518",
   "metadata": {},
   "outputs": [
    {
     "data": {
      "text/html": [
       "<div>\n",
       "<style scoped>\n",
       "    .dataframe tbody tr th:only-of-type {\n",
       "        vertical-align: middle;\n",
       "    }\n",
       "\n",
       "    .dataframe tbody tr th {\n",
       "        vertical-align: top;\n",
       "    }\n",
       "\n",
       "    .dataframe thead th {\n",
       "        text-align: right;\n",
       "    }\n",
       "</style>\n",
       "<table border=\"1\" class=\"dataframe\">\n",
       "  <thead>\n",
       "    <tr style=\"text-align: right;\">\n",
       "      <th></th>\n",
       "      <th>comment</th>\n",
       "    </tr>\n",
       "    <tr>\n",
       "      <th>mark</th>\n",
       "      <th></th>\n",
       "    </tr>\n",
       "  </thead>\n",
       "  <tbody>\n",
       "    <tr>\n",
       "      <th>2</th>\n",
       "      <td>963</td>\n",
       "    </tr>\n",
       "    <tr>\n",
       "      <th>3</th>\n",
       "      <td>1562</td>\n",
       "    </tr>\n",
       "    <tr>\n",
       "      <th>4</th>\n",
       "      <td>5976</td>\n",
       "    </tr>\n",
       "    <tr>\n",
       "      <th>5</th>\n",
       "      <td>14080</td>\n",
       "    </tr>\n",
       "  </tbody>\n",
       "</table>\n",
       "</div>"
      ],
      "text/plain": [
       "      comment\n",
       "mark         \n",
       "2         963\n",
       "3        1562\n",
       "4        5976\n",
       "5       14080"
      ]
     },
     "execution_count": 70,
     "metadata": {},
     "output_type": "execute_result"
    }
   ],
   "source": [
    "comments.groupby('mark').nunique()"
   ]
  },
  {
   "cell_type": "code",
   "execution_count": 71,
   "id": "2ad28f87",
   "metadata": {},
   "outputs": [
    {
     "data": {
      "text/html": [
       "<div>\n",
       "<style scoped>\n",
       "    .dataframe tbody tr th:only-of-type {\n",
       "        vertical-align: middle;\n",
       "    }\n",
       "\n",
       "    .dataframe tbody tr th {\n",
       "        vertical-align: top;\n",
       "    }\n",
       "\n",
       "    .dataframe thead th {\n",
       "        text-align: right;\n",
       "    }\n",
       "</style>\n",
       "<table border=\"1\" class=\"dataframe\">\n",
       "  <thead>\n",
       "    <tr style=\"text-align: right;\">\n",
       "      <th></th>\n",
       "      <th>comment</th>\n",
       "      <th>mark</th>\n",
       "    </tr>\n",
       "  </thead>\n",
       "  <tbody>\n",
       "    <tr>\n",
       "      <th>94115</th>\n",
       "      <td>Плюсы: Новатор  умница! Минусы: Нет Описание:...</td>\n",
       "      <td>5</td>\n",
       "    </tr>\n",
       "    <tr>\n",
       "      <th>81289</th>\n",
       "      <td>Профессиональный педагог знающий ответственны...</td>\n",
       "      <td>4</td>\n",
       "    </tr>\n",
       "    <tr>\n",
       "      <th>90671</th>\n",
       "      <td>Плюсы: Вера Петровна сразу принялась к делу  ...</td>\n",
       "      <td>5</td>\n",
       "    </tr>\n",
       "    <tr>\n",
       "      <th>86911</th>\n",
       "      <td>Мне понравился репетитор по рисованию Федор А...</td>\n",
       "      <td>5</td>\n",
       "    </tr>\n",
       "    <tr>\n",
       "      <th>90290</th>\n",
       "      <td>Оксана Константиновна - доброжелательный чело...</td>\n",
       "      <td>4</td>\n",
       "    </tr>\n",
       "    <tr>\n",
       "      <th>...</th>\n",
       "      <td>...</td>\n",
       "      <td>...</td>\n",
       "    </tr>\n",
       "    <tr>\n",
       "      <th>30369</th>\n",
       "      <td>Всё хорошо. Нас всё устраивает мы довольны. П...</td>\n",
       "      <td>4</td>\n",
       "    </tr>\n",
       "    <tr>\n",
       "      <th>7604</th>\n",
       "      <td>Репетитор самого начального уровня. Серьезнос...</td>\n",
       "      <td>3</td>\n",
       "    </tr>\n",
       "    <tr>\n",
       "      <th>92205</th>\n",
       "      <td>Спасибо сайту и репетитору Юлии Александровне</td>\n",
       "      <td>5</td>\n",
       "    </tr>\n",
       "    <tr>\n",
       "      <th>88487</th>\n",
       "      <td>Провели 6-7 занятий. Дочери были непонятны об...</td>\n",
       "      <td>3</td>\n",
       "    </tr>\n",
       "    <tr>\n",
       "      <th>94199</th>\n",
       "      <td>Плюсы: Занимались с октября 2021 по май 2022....</td>\n",
       "      <td>5</td>\n",
       "    </tr>\n",
       "  </tbody>\n",
       "</table>\n",
       "<p>22689 rows × 2 columns</p>\n",
       "</div>"
      ],
      "text/plain": [
       "                                                 comment mark\n",
       "94115   Плюсы: Новатор  умница! Минусы: Нет Описание:...    5\n",
       "81289   Профессиональный педагог знающий ответственны...    4\n",
       "90671   Плюсы: Вера Петровна сразу принялась к делу  ...    5\n",
       "86911   Мне понравился репетитор по рисованию Федор А...    5\n",
       "90290   Оксана Константиновна - доброжелательный чело...    4\n",
       "...                                                  ...  ...\n",
       "30369   Всё хорошо. Нас всё устраивает мы довольны. П...    4\n",
       "7604    Репетитор самого начального уровня. Серьезнос...    3\n",
       "92205      Спасибо сайту и репетитору Юлии Александровне    5\n",
       "88487   Провели 6-7 занятий. Дочери были непонятны об...    3\n",
       "94199   Плюсы: Занимались с октября 2021 по май 2022....    5\n",
       "\n",
       "[22689 rows x 2 columns]"
      ]
     },
     "execution_count": 71,
     "metadata": {},
     "output_type": "execute_result"
    }
   ],
   "source": [
    "comments = shuffle(comments)\n",
    "comments"
   ]
  },
  {
   "cell_type": "code",
   "execution_count": 72,
   "id": "eac2a5b6",
   "metadata": {},
   "outputs": [
    {
     "data": {
      "text/plain": [
       "<AxesSubplot: xlabel='mark', ylabel='count'>"
      ]
     },
     "execution_count": 72,
     "metadata": {},
     "output_type": "execute_result"
    },
    {
     "data": {
      "image/png": "[encoded data removed]",
      "text/plain": [
       "<Figure size 640x480 with 1 Axes>"
      ]
     },
     "metadata": {},
     "output_type": "display_data"
    }
   ],
   "source": [
    "sns.countplot(x = comments['mark'],data = comments)"
   ]
  },
  {
   "cell_type": "markdown",
   "id": "b28fd4cd",
   "metadata": {},
   "source": [
    "Видим, что есть очень большие по длине отзывы, учтем это при анализе:"
   ]
  },
  {
   "cell_type": "code",
   "execution_count": 73,
   "id": "e45cfbb4",
   "metadata": {},
   "outputs": [
    {
     "data": {
      "text/plain": [
       "<AxesSubplot: ylabel='Count'>"
      ]
     },
     "execution_count": 73,
     "metadata": {},
     "output_type": "execute_result"
    },
    {
     "data": {
      "image/png": "[encoded data removed]",
      "text/plain": [
       "<Figure size 640x480 with 1 Axes>"
      ]
     },
     "metadata": {},
     "output_type": "display_data"
    }
   ],
   "source": [
    "sns.histplot([len(comment) for comment in comments['comment']])"
   ]
  },
  {
   "cell_type": "code",
   "execution_count": 74,
   "id": "ea35d260",
   "metadata": {},
   "outputs": [],
   "source": [
    "comments['mark'] = comments['mark'].astype(str).astype(int)\n",
    "comments['comment'] = comments['comment'].astype(str)"
   ]
  },
  {
   "cell_type": "markdown",
   "id": "0e2d54b6",
   "metadata": {},
   "source": [
    "# Prepocessing"
   ]
  },
  {
   "cell_type": "code",
   "execution_count": 75,
   "id": "8d44b0c5",
   "metadata": {},
   "outputs": [],
   "source": [
    "# !pip3 install WordCloud"
   ]
  },
  {
   "cell_type": "markdown",
   "id": "1ece3e5c",
   "metadata": {},
   "source": [
    "Загрузим русский список стоп-слов и удалим из него слова \"не\" и \"нет\", так как они часто встречаются в отрицательных отзывах и редко в положительных, значит могут быть полезными при классификации:"
   ]
  },
  {
   "cell_type": "code",
   "execution_count": 76,
   "id": "4065e9a2",
   "metadata": {},
   "outputs": [
    {
     "name": "stderr",
     "output_type": "stream",
     "text": [
      "[nltk_data] Downloading package stopwords to\n",
      "[nltk_data]     /Users/natalaantonenko/nltk_data...\n",
      "[nltk_data]   Package stopwords is already up-to-date!\n"
     ]
    }
   ],
   "source": [
    "nltk.download('stopwords')\n",
    "stopwords_ru = stopwords.words(\"russian\")\n",
    "stopwords_ru.remove('не')\n",
    "stopwords_ru.remove('нет')"
   ]
  },
  {
   "cell_type": "markdown",
   "id": "4d1b0dca",
   "metadata": {},
   "source": [
    "Создадим функцию preprocessing, с помощью которой будем предобрабатывать наши отзывы, а именно: \n",
    "1. разбивать на токены\n",
    "2. приводить к нормальной форме\n",
    "3. удалять стоп-слов"
   ]
  },
  {
   "cell_type": "code",
   "execution_count": 77,
   "id": "f80e2fab",
   "metadata": {},
   "outputs": [],
   "source": [
    "patterns = \"[A-Za-z!#$%&'()*+,./:;<=>?@[\\]^_`{|}~—\\\"\\-]+\"\n",
    "morph = MorphAnalyzer()\n",
    "stop_repetit_words = ['репетитор', 'занятие', 'преподаватель', 'педагог', 'ребёнок']\n",
    "\n",
    "def preprocessing(doc):\n",
    "    doc = re.sub(patterns, ' ', doc)\n",
    "    string = ''\n",
    "    for token in doc.split():\n",
    "        if token:\n",
    "            token = token.strip()\n",
    "            token = morph.normal_forms(token)[0]\n",
    "            if token not in stopwords_ru and token not in stop_repetit_words:\n",
    "                string += token + ' '\n",
    "    if len(string.split()) > 7:\n",
    "        return string\n",
    "    return None"
   ]
  },
  {
   "cell_type": "code",
   "execution_count": 78,
   "id": "444306ae",
   "metadata": {},
   "outputs": [],
   "source": [
    "data = comments.iloc[:,0].apply(preprocessing)"
   ]
  },
  {
   "cell_type": "code",
   "execution_count": 79,
   "id": "c5943eb2",
   "metadata": {},
   "outputs": [
    {
     "data": {
      "text/plain": [
       "20884"
      ]
     },
     "execution_count": 79,
     "metadata": {},
     "output_type": "execute_result"
    }
   ],
   "source": [
    "comments['comm_tokens'] = data\n",
    "comments = comments.dropna()\n",
    "len(comments)"
   ]
  },
  {
   "cell_type": "code",
   "execution_count": 80,
   "id": "1d81c8a4",
   "metadata": {},
   "outputs": [
    {
     "name": "stderr",
     "output_type": "stream",
     "text": [
      "/var/folders/0b/7m67yr996xq16ssxkwly78q80000gr/T/ipykernel_17796/269570169.py:1: SettingWithCopyWarning: \n",
      "A value is trying to be set on a copy of a slice from a DataFrame.\n",
      "Try using .loc[row_indexer,col_indexer] = value instead\n",
      "\n",
      "See the caveats in the documentation: https://pandas.pydata.org/pandas-docs/stable/user_guide/indexing.html#returning-a-view-versus-a-copy\n",
      "  comments['comm_tokens'] = comments['comm_tokens'].astype(str)\n"
     ]
    }
   ],
   "source": [
    "comments['comm_tokens'] = comments['comm_tokens'].astype(str)"
   ]
  },
  {
   "cell_type": "code",
   "execution_count": 81,
   "id": "208d3f61",
   "metadata": {},
   "outputs": [
    {
     "data": {
      "text/html": [
       "<div>\n",
       "<style scoped>\n",
       "    .dataframe tbody tr th:only-of-type {\n",
       "        vertical-align: middle;\n",
       "    }\n",
       "\n",
       "    .dataframe tbody tr th {\n",
       "        vertical-align: top;\n",
       "    }\n",
       "\n",
       "    .dataframe thead th {\n",
       "        text-align: right;\n",
       "    }\n",
       "</style>\n",
       "<table border=\"1\" class=\"dataframe\">\n",
       "  <thead>\n",
       "    <tr style=\"text-align: right;\">\n",
       "      <th></th>\n",
       "      <th>comment</th>\n",
       "      <th>mark</th>\n",
       "      <th>comm_tokens</th>\n",
       "    </tr>\n",
       "  </thead>\n",
       "  <tbody>\n",
       "    <tr>\n",
       "      <th>94115</th>\n",
       "      <td>Плюсы: Новатор  умница! Минусы: Нет Описание:...</td>\n",
       "      <td>5</td>\n",
       "      <td>плюс новатор умница минус нет описание спасибо...</td>\n",
       "    </tr>\n",
       "    <tr>\n",
       "      <th>81289</th>\n",
       "      <td>Профессиональный педагог знающий ответственны...</td>\n",
       "      <td>4</td>\n",
       "      <td>профессиональный знающий ответственный пунктуа...</td>\n",
       "    </tr>\n",
       "    <tr>\n",
       "      <th>90671</th>\n",
       "      <td>Плюсы: Вера Петровна сразу принялась к делу  ...</td>\n",
       "      <td>5</td>\n",
       "      <td>плюс вера петрович сразу приняться дело провод...</td>\n",
       "    </tr>\n",
       "    <tr>\n",
       "      <th>86911</th>\n",
       "      <td>Мне понравился репетитор по рисованию Федор А...</td>\n",
       "      <td>5</td>\n",
       "      <td>понравиться рисование фёдор александрович знат...</td>\n",
       "    </tr>\n",
       "    <tr>\n",
       "      <th>90290</th>\n",
       "      <td>Оксана Константиновна - доброжелательный чело...</td>\n",
       "      <td>4</td>\n",
       "      <td>оксана константинович доброжелательный человек...</td>\n",
       "    </tr>\n",
       "    <tr>\n",
       "      <th>...</th>\n",
       "      <td>...</td>\n",
       "      <td>...</td>\n",
       "      <td>...</td>\n",
       "    </tr>\n",
       "    <tr>\n",
       "      <th>51679</th>\n",
       "      <td>А вот на фоне всех положительных отзывов у мо...</td>\n",
       "      <td>2</td>\n",
       "      <td>фон весь положительный отзыв дочь валентина ни...</td>\n",
       "    </tr>\n",
       "    <tr>\n",
       "      <th>30369</th>\n",
       "      <td>Всё хорошо. Нас всё устраивает мы довольны. П...</td>\n",
       "      <td>4</td>\n",
       "      <td>всё всё устраивать довольный продолжать занима...</td>\n",
       "    </tr>\n",
       "    <tr>\n",
       "      <th>7604</th>\n",
       "      <td>Репетитор самого начального уровня. Серьезнос...</td>\n",
       "      <td>3</td>\n",
       "      <td>начальный уровень серьёзность намерение обучен...</td>\n",
       "    </tr>\n",
       "    <tr>\n",
       "      <th>88487</th>\n",
       "      <td>Провели 6-7 занятий. Дочери были непонятны об...</td>\n",
       "      <td>3</td>\n",
       "      <td>провести 6 7 дочь непонятный объяснение татьян...</td>\n",
       "    </tr>\n",
       "    <tr>\n",
       "      <th>94199</th>\n",
       "      <td>Плюсы: Занимались с октября 2021 по май 2022....</td>\n",
       "      <td>5</td>\n",
       "      <td>плюс заниматься октябрь 2021 май 2022 проходит...</td>\n",
       "    </tr>\n",
       "  </tbody>\n",
       "</table>\n",
       "<p>20884 rows × 3 columns</p>\n",
       "</div>"
      ],
      "text/plain": [
       "                                                 comment  mark  \\\n",
       "94115   Плюсы: Новатор  умница! Минусы: Нет Описание:...     5   \n",
       "81289   Профессиональный педагог знающий ответственны...     4   \n",
       "90671   Плюсы: Вера Петровна сразу принялась к делу  ...     5   \n",
       "86911   Мне понравился репетитор по рисованию Федор А...     5   \n",
       "90290   Оксана Константиновна - доброжелательный чело...     4   \n",
       "...                                                  ...   ...   \n",
       "51679   А вот на фоне всех положительных отзывов у мо...     2   \n",
       "30369   Всё хорошо. Нас всё устраивает мы довольны. П...     4   \n",
       "7604    Репетитор самого начального уровня. Серьезнос...     3   \n",
       "88487   Провели 6-7 занятий. Дочери были непонятны об...     3   \n",
       "94199   Плюсы: Занимались с октября 2021 по май 2022....     5   \n",
       "\n",
       "                                             comm_tokens  \n",
       "94115  плюс новатор умница минус нет описание спасибо...  \n",
       "81289  профессиональный знающий ответственный пунктуа...  \n",
       "90671  плюс вера петрович сразу приняться дело провод...  \n",
       "86911  понравиться рисование фёдор александрович знат...  \n",
       "90290  оксана константинович доброжелательный человек...  \n",
       "...                                                  ...  \n",
       "51679  фон весь положительный отзыв дочь валентина ни...  \n",
       "30369  всё всё устраивать довольный продолжать занима...  \n",
       "7604   начальный уровень серьёзность намерение обучен...  \n",
       "88487  провести 6 7 дочь непонятный объяснение татьян...  \n",
       "94199  плюс заниматься октябрь 2021 май 2022 проходит...  \n",
       "\n",
       "[20884 rows x 3 columns]"
      ]
     },
     "execution_count": 81,
     "metadata": {},
     "output_type": "execute_result"
    }
   ],
   "source": [
    "comments"
   ]
  },
  {
   "cell_type": "markdown",
   "id": "7319d9df",
   "metadata": {},
   "source": [
    "# Обучение"
   ]
  },
  {
   "cell_type": "code",
   "execution_count": 82,
   "id": "93128042",
   "metadata": {},
   "outputs": [],
   "source": [
    "vectorizer = TfidfVectorizer()\n",
    "X = vectorizer.fit_transform(comments['comm_tokens'])\n",
    "y = comments['mark']\n",
    "X_train, X_test, y_train, y_test = train_test_split(X, y, test_size=0.30, random_state = 1234)"
   ]
  },
  {
   "cell_type": "code",
   "execution_count": 83,
   "id": "b835ef09",
   "metadata": {},
   "outputs": [
    {
     "data": {
      "text/plain": [
       "((14618, 15726), (6266, 15726))"
      ]
     },
     "execution_count": 83,
     "metadata": {},
     "output_type": "execute_result"
    }
   ],
   "source": [
    "X_train.shape, X_test.shape"
   ]
  },
  {
   "cell_type": "markdown",
   "id": "c4cde135",
   "metadata": {},
   "source": [
    "Строим 6 классификаторов и для каждого выводим значения precision, recall, f1_score:"
   ]
  },
  {
   "cell_type": "code",
   "execution_count": 84,
   "id": "cee40afa",
   "metadata": {},
   "outputs": [
    {
     "data": {
      "text/html": [
       "<div>\n",
       "<style scoped>\n",
       "    .dataframe tbody tr th:only-of-type {\n",
       "        vertical-align: middle;\n",
       "    }\n",
       "\n",
       "    .dataframe tbody tr th {\n",
       "        vertical-align: top;\n",
       "    }\n",
       "\n",
       "    .dataframe thead th {\n",
       "        text-align: right;\n",
       "    }\n",
       "</style>\n",
       "<table border=\"1\" class=\"dataframe\">\n",
       "  <thead>\n",
       "    <tr style=\"text-align: right;\">\n",
       "      <th></th>\n",
       "      <th>LogisticRegression</th>\n",
       "      <th>RandomForestClassifier</th>\n",
       "      <th>ComplementNB</th>\n",
       "      <th>DecisionTreeClassifier</th>\n",
       "      <th>GradientBoostingClassifier</th>\n",
       "      <th>AdaBoostClassifier</th>\n",
       "    </tr>\n",
       "  </thead>\n",
       "  <tbody>\n",
       "    <tr>\n",
       "      <th>precision</th>\n",
       "      <td>0.807190</td>\n",
       "      <td>0.861339</td>\n",
       "      <td>0.843585</td>\n",
       "      <td>0.638494</td>\n",
       "      <td>0.805183</td>\n",
       "      <td>0.773722</td>\n",
       "    </tr>\n",
       "    <tr>\n",
       "      <th>recall</th>\n",
       "      <td>0.757581</td>\n",
       "      <td>0.703958</td>\n",
       "      <td>0.709384</td>\n",
       "      <td>0.623683</td>\n",
       "      <td>0.722630</td>\n",
       "      <td>0.686403</td>\n",
       "    </tr>\n",
       "    <tr>\n",
       "      <th>f1_weighted</th>\n",
       "      <td>0.775360</td>\n",
       "      <td>0.759941</td>\n",
       "      <td>0.755959</td>\n",
       "      <td>0.635803</td>\n",
       "      <td>0.752644</td>\n",
       "      <td>0.718086</td>\n",
       "    </tr>\n",
       "  </tbody>\n",
       "</table>\n",
       "</div>"
      ],
      "text/plain": [
       "             LogisticRegression  RandomForestClassifier  ComplementNB  \\\n",
       "precision              0.807190                0.861339      0.843585   \n",
       "recall                 0.757581                0.703958      0.709384   \n",
       "f1_weighted            0.775360                0.759941      0.755959   \n",
       "\n",
       "             DecisionTreeClassifier  GradientBoostingClassifier  \\\n",
       "precision                  0.638494                    0.805183   \n",
       "recall                     0.623683                    0.722630   \n",
       "f1_weighted                0.635803                    0.752644   \n",
       "\n",
       "             AdaBoostClassifier  \n",
       "precision              0.773722  \n",
       "recall                 0.686403  \n",
       "f1_weighted            0.718086  "
      ]
     },
     "execution_count": 84,
     "metadata": {},
     "output_type": "execute_result"
    }
   ],
   "source": [
    "def model_score(model, criterion):\n",
    "    model.fit(X_train, y_train)\n",
    "    y_pred = model.predict(X_test)\n",
    "    return criterion(y_pred, y_test, average='weighted')\n",
    "\n",
    "models_name = ['LogisticRegression', 'RandomForestClassifier', 'ComplementNB',\n",
    "               'DecisionTreeClassifier', 'GradientBoostingClassifier', \n",
    "               'AdaBoostClassifier']\n",
    "models = [LogisticRegression(solver='lbfgs', max_iter=1000), RandomForestClassifier(), ComplementNB(),\n",
    "          DecisionTreeClassifier(), GradientBoostingClassifier(), \n",
    "          AdaBoostClassifier()]\n",
    "model_result = {}\n",
    "\n",
    "quality = [precision_score, \n",
    "           recall_score, \n",
    "           f1_score]\n",
    "        \n",
    "for i in range(len(models)):\n",
    "    model_result[models_name[i]] = [model_score(models[i],q) for q in quality]\n",
    "        \n",
    "pd.DataFrame(model_result, index = ['precision', 'recall', 'f1_weighted'])"
   ]
  },
  {
   "cell_type": "markdown",
   "id": "41feb700",
   "metadata": {},
   "source": [
    "Лучше всего справились модели RandomForestClassifier и ComplementNB\n",
    "Построим одну из них отдельно и посмотрим результат:"
   ]
  },
  {
   "cell_type": "code",
   "execution_count": 85,
   "id": "6d60a5eb",
   "metadata": {},
   "outputs": [],
   "source": [
    "best_model = ComplementNB()\n",
    "best_model.fit(X_train, y_train)\n",
    "y_pred = best_model.predict(X_test)\n",
    "\n",
    "\n",
    "y_test_index = y_test.index.tolist()\n",
    "d = {'x_test': comments.loc[y_test_index].comment.values, 'y_test': y_test, 'y_pred': y_pred}\n",
    "df_ComplementNB = pd.DataFrame(d)"
   ]
  },
  {
   "cell_type": "code",
   "execution_count": 86,
   "id": "149bb0bb",
   "metadata": {},
   "outputs": [
    {
     "data": {
      "text/plain": [
       "0.7093839770188318"
      ]
     },
     "execution_count": 86,
     "metadata": {},
     "output_type": "execute_result"
    }
   ],
   "source": [
    "accuracy_score(y_pred,y_test)"
   ]
  },
  {
   "cell_type": "code",
   "execution_count": 87,
   "id": "c15833b8",
   "metadata": {},
   "outputs": [
    {
     "data": {
      "text/html": [
       "<div>\n",
       "<style scoped>\n",
       "    .dataframe tbody tr th:only-of-type {\n",
       "        vertical-align: middle;\n",
       "    }\n",
       "\n",
       "    .dataframe tbody tr th {\n",
       "        vertical-align: top;\n",
       "    }\n",
       "\n",
       "    .dataframe thead th {\n",
       "        text-align: right;\n",
       "    }\n",
       "</style>\n",
       "<table border=\"1\" class=\"dataframe\">\n",
       "  <thead>\n",
       "    <tr style=\"text-align: right;\">\n",
       "      <th></th>\n",
       "      <th>x_test</th>\n",
       "      <th>y_test</th>\n",
       "      <th>y_pred</th>\n",
       "    </tr>\n",
       "  </thead>\n",
       "  <tbody>\n",
       "    <tr>\n",
       "      <th>101479</th>\n",
       "      <td>Преподаватель после оставленного положительно...</td>\n",
       "      <td>2</td>\n",
       "      <td>2</td>\n",
       "    </tr>\n",
       "    <tr>\n",
       "      <th>97568</th>\n",
       "      <td>Плюсы: для нас плюс занятия по скайпу Минусы:...</td>\n",
       "      <td>2</td>\n",
       "      <td>2</td>\n",
       "    </tr>\n",
       "    <tr>\n",
       "      <th>45667</th>\n",
       "      <td>Лично для меня преподаватель был некорректный...</td>\n",
       "      <td>2</td>\n",
       "      <td>2</td>\n",
       "    </tr>\n",
       "    <tr>\n",
       "      <th>247</th>\n",
       "      <td>Создается впечатление что на сайте публикуютс...</td>\n",
       "      <td>3</td>\n",
       "      <td>4</td>\n",
       "    </tr>\n",
       "    <tr>\n",
       "      <th>70990</th>\n",
       "      <td>Светлана Борисовна использовала не совсем тот...</td>\n",
       "      <td>3</td>\n",
       "      <td>4</td>\n",
       "    </tr>\n",
       "    <tr>\n",
       "      <th>15653</th>\n",
       "      <td>Как педагог хорошо обучает она со вторым ребе...</td>\n",
       "      <td>4</td>\n",
       "      <td>4</td>\n",
       "    </tr>\n",
       "    <tr>\n",
       "      <th>70964</th>\n",
       "      <td>Александра Александровна – молодой репетир от...</td>\n",
       "      <td>4</td>\n",
       "      <td>4</td>\n",
       "    </tr>\n",
       "    <tr>\n",
       "      <th>76310</th>\n",
       "      <td>Альбина Фаритовна - неплохой педагог. Человек...</td>\n",
       "      <td>4</td>\n",
       "      <td>4</td>\n",
       "    </tr>\n",
       "    <tr>\n",
       "      <th>86358</th>\n",
       "      <td>В процессе обучения Марина Викторовна не толь...</td>\n",
       "      <td>4</td>\n",
       "      <td>5</td>\n",
       "    </tr>\n",
       "    <tr>\n",
       "      <th>83396</th>\n",
       "      <td>Так получилось что мы недолго занимались с Ар...</td>\n",
       "      <td>4</td>\n",
       "      <td>5</td>\n",
       "    </tr>\n",
       "    <tr>\n",
       "      <th>34739</th>\n",
       "      <td>Плюсы: Доброжелательность Описание: С Ольгой ...</td>\n",
       "      <td>4</td>\n",
       "      <td>4</td>\n",
       "    </tr>\n",
       "    <tr>\n",
       "      <th>20808</th>\n",
       "      <td>Мне кажется педагог больше подойдёт для взрос...</td>\n",
       "      <td>4</td>\n",
       "      <td>4</td>\n",
       "    </tr>\n",
       "    <tr>\n",
       "      <th>131761</th>\n",
       "      <td>Преподаватель понравилась. Ребёнок маленький ...</td>\n",
       "      <td>4</td>\n",
       "      <td>5</td>\n",
       "    </tr>\n",
       "    <tr>\n",
       "      <th>7274</th>\n",
       "      <td>Иветта Борисовна справлялась с моими задачами...</td>\n",
       "      <td>4</td>\n",
       "      <td>4</td>\n",
       "    </tr>\n",
       "    <tr>\n",
       "      <th>27682</th>\n",
       "      <td>Мне все нравится в работе с преподавателем ан...</td>\n",
       "      <td>4</td>\n",
       "      <td>5</td>\n",
       "    </tr>\n",
       "    <tr>\n",
       "      <th>38258</th>\n",
       "      <td>Ася Аркадьевна понятно объясняет они хорошо з...</td>\n",
       "      <td>4</td>\n",
       "      <td>5</td>\n",
       "    </tr>\n",
       "    <tr>\n",
       "      <th>60576</th>\n",
       "      <td>Очень посредственно. Ребенок мой сдал так себ...</td>\n",
       "      <td>4</td>\n",
       "      <td>5</td>\n",
       "    </tr>\n",
       "    <tr>\n",
       "      <th>40934</th>\n",
       "      <td>Мы прекратили занятия с преподавателем. Не ус...</td>\n",
       "      <td>4</td>\n",
       "      <td>4</td>\n",
       "    </tr>\n",
       "    <tr>\n",
       "      <th>76418</th>\n",
       "      <td>Марина Михайловна молодец! Она хороший специа...</td>\n",
       "      <td>4</td>\n",
       "      <td>4</td>\n",
       "    </tr>\n",
       "    <tr>\n",
       "      <th>32283</th>\n",
       "      <td>Минусы: Пока не вижу Описание: Занятия проход...</td>\n",
       "      <td>4</td>\n",
       "      <td>5</td>\n",
       "    </tr>\n",
       "    <tr>\n",
       "      <th>74944</th>\n",
       "      <td>Лариса Георгиевна произвела на меня только са...</td>\n",
       "      <td>4</td>\n",
       "      <td>5</td>\n",
       "    </tr>\n",
       "    <tr>\n",
       "      <th>91468</th>\n",
       "      <td>Прекрасный преподаватель! Я очень рада  что н...</td>\n",
       "      <td>5</td>\n",
       "      <td>5</td>\n",
       "    </tr>\n",
       "    <tr>\n",
       "      <th>89688</th>\n",
       "      <td>Плюсы: Чётко работает на результат. Минусы: Н...</td>\n",
       "      <td>5</td>\n",
       "      <td>5</td>\n",
       "    </tr>\n",
       "    <tr>\n",
       "      <th>74783</th>\n",
       "      <td>Впечатление о работе репетитора хорошее. Илья...</td>\n",
       "      <td>5</td>\n",
       "      <td>5</td>\n",
       "    </tr>\n",
       "    <tr>\n",
       "      <th>90980</th>\n",
       "      <td>У нас с Сергеем Арленовичем занятие прошло от...</td>\n",
       "      <td>5</td>\n",
       "      <td>5</td>\n",
       "    </tr>\n",
       "    <tr>\n",
       "      <th>93826</th>\n",
       "      <td>Репетитор мне нравится и результаты хорошие. ...</td>\n",
       "      <td>5</td>\n",
       "      <td>5</td>\n",
       "    </tr>\n",
       "    <tr>\n",
       "      <th>94820</th>\n",
       "      <td>Отличный преподаватель! Цуй Янь устраивает на...</td>\n",
       "      <td>5</td>\n",
       "      <td>5</td>\n",
       "    </tr>\n",
       "    <tr>\n",
       "      <th>74572</th>\n",
       "      <td>Анатолий Петрович – очень ответственный челов...</td>\n",
       "      <td>5</td>\n",
       "      <td>5</td>\n",
       "    </tr>\n",
       "    <tr>\n",
       "      <th>93755</th>\n",
       "      <td>Мы продолжаем сотрудничать с Людмилой Алексан...</td>\n",
       "      <td>5</td>\n",
       "      <td>5</td>\n",
       "    </tr>\n",
       "    <tr>\n",
       "      <th>96205</th>\n",
       "      <td>Специалист помог решить поставленную задачу. ...</td>\n",
       "      <td>5</td>\n",
       "      <td>5</td>\n",
       "    </tr>\n",
       "    <tr>\n",
       "      <th>90271</th>\n",
       "      <td>С Яной Олеговной занимаемся в настоящее время...</td>\n",
       "      <td>5</td>\n",
       "      <td>5</td>\n",
       "    </tr>\n",
       "    <tr>\n",
       "      <th>89065</th>\n",
       "      <td>Мне нравится педагог. Занятия проходят хорошо...</td>\n",
       "      <td>5</td>\n",
       "      <td>5</td>\n",
       "    </tr>\n",
       "    <tr>\n",
       "      <th>88582</th>\n",
       "      <td>Дочь сдала ЕГЭ на 66 баллов. Чуть-чуть больше...</td>\n",
       "      <td>5</td>\n",
       "      <td>4</td>\n",
       "    </tr>\n",
       "    <tr>\n",
       "      <th>93249</th>\n",
       "      <td>За несколько занятий Любовь Борисовна помогла...</td>\n",
       "      <td>5</td>\n",
       "      <td>5</td>\n",
       "    </tr>\n",
       "    <tr>\n",
       "      <th>93592</th>\n",
       "      <td>Хороший педагог. Он быстро объяснил мне суть ...</td>\n",
       "      <td>5</td>\n",
       "      <td>5</td>\n",
       "    </tr>\n",
       "    <tr>\n",
       "      <th>94133</th>\n",
       "      <td>Спасибо Михаилу за работу и результат! Делали...</td>\n",
       "      <td>5</td>\n",
       "      <td>5</td>\n",
       "    </tr>\n",
       "    <tr>\n",
       "      <th>86010</th>\n",
       "      <td>Личные и профессиональные качества Юлии Юрьев...</td>\n",
       "      <td>5</td>\n",
       "      <td>5</td>\n",
       "    </tr>\n",
       "    <tr>\n",
       "      <th>88716</th>\n",
       "      <td>Мы отлично позанимались с репетитором по физи...</td>\n",
       "      <td>5</td>\n",
       "      <td>5</td>\n",
       "    </tr>\n",
       "    <tr>\n",
       "      <th>94829</th>\n",
       "      <td>Мой сын - отличник  поэтому нас не интересует...</td>\n",
       "      <td>5</td>\n",
       "      <td>5</td>\n",
       "    </tr>\n",
       "    <tr>\n",
       "      <th>96416</th>\n",
       "      <td>Айгуль Рашитовна  замечательный преподаватель...</td>\n",
       "      <td>5</td>\n",
       "      <td>5</td>\n",
       "    </tr>\n",
       "    <tr>\n",
       "      <th>88800</th>\n",
       "      <td>У нас все замечательно: налажено взаимопонима...</td>\n",
       "      <td>5</td>\n",
       "      <td>5</td>\n",
       "    </tr>\n",
       "    <tr>\n",
       "      <th>94552</th>\n",
       "      <td>То что так долго искала! Качество уборки устр...</td>\n",
       "      <td>5</td>\n",
       "      <td>2</td>\n",
       "    </tr>\n",
       "    <tr>\n",
       "      <th>72836</th>\n",
       "      <td>Плюсы: Ответственная подготовка к занятию уме...</td>\n",
       "      <td>5</td>\n",
       "      <td>5</td>\n",
       "    </tr>\n",
       "    <tr>\n",
       "      <th>94373</th>\n",
       "      <td>Единственный минус в нашем с Андреем Анатолье...</td>\n",
       "      <td>5</td>\n",
       "      <td>5</td>\n",
       "    </tr>\n",
       "    <tr>\n",
       "      <th>95135</th>\n",
       "      <td>Все прекрасно. Очень довольны работой этого о...</td>\n",
       "      <td>5</td>\n",
       "      <td>5</td>\n",
       "    </tr>\n",
       "    <tr>\n",
       "      <th>87025</th>\n",
       "      <td>Спасибо большое Светлане Николаевне! Она помо...</td>\n",
       "      <td>5</td>\n",
       "      <td>5</td>\n",
       "    </tr>\n",
       "    <tr>\n",
       "      <th>95594</th>\n",
       "      <td>Плюсы: Хорошо подается материал  отзывчивый и...</td>\n",
       "      <td>5</td>\n",
       "      <td>5</td>\n",
       "    </tr>\n",
       "    <tr>\n",
       "      <th>94474</th>\n",
       "      <td>Плюсы: + доступное объяснение тем. + подход к...</td>\n",
       "      <td>5</td>\n",
       "      <td>5</td>\n",
       "    </tr>\n",
       "    <tr>\n",
       "      <th>74240</th>\n",
       "      <td>Самые хорошие отзывы просто занятия прекратил...</td>\n",
       "      <td>5</td>\n",
       "      <td>5</td>\n",
       "    </tr>\n",
       "    <tr>\n",
       "      <th>94534</th>\n",
       "      <td>Алисе очень нравится Анастасия Игоревна. Ребе...</td>\n",
       "      <td>5</td>\n",
       "      <td>5</td>\n",
       "    </tr>\n",
       "  </tbody>\n",
       "</table>\n",
       "</div>"
      ],
      "text/plain": [
       "                                                   x_test  y_test  y_pred\n",
       "101479   Преподаватель после оставленного положительно...       2       2\n",
       "97568    Плюсы: для нас плюс занятия по скайпу Минусы:...       2       2\n",
       "45667    Лично для меня преподаватель был некорректный...       2       2\n",
       "247      Создается впечатление что на сайте публикуютс...       3       4\n",
       "70990    Светлана Борисовна использовала не совсем тот...       3       4\n",
       "15653    Как педагог хорошо обучает она со вторым ребе...       4       4\n",
       "70964    Александра Александровна – молодой репетир от...       4       4\n",
       "76310    Альбина Фаритовна - неплохой педагог. Человек...       4       4\n",
       "86358    В процессе обучения Марина Викторовна не толь...       4       5\n",
       "83396    Так получилось что мы недолго занимались с Ар...       4       5\n",
       "34739    Плюсы: Доброжелательность Описание: С Ольгой ...       4       4\n",
       "20808    Мне кажется педагог больше подойдёт для взрос...       4       4\n",
       "131761   Преподаватель понравилась. Ребёнок маленький ...       4       5\n",
       "7274     Иветта Борисовна справлялась с моими задачами...       4       4\n",
       "27682    Мне все нравится в работе с преподавателем ан...       4       5\n",
       "38258    Ася Аркадьевна понятно объясняет они хорошо з...       4       5\n",
       "60576    Очень посредственно. Ребенок мой сдал так себ...       4       5\n",
       "40934    Мы прекратили занятия с преподавателем. Не ус...       4       4\n",
       "76418    Марина Михайловна молодец! Она хороший специа...       4       4\n",
       "32283    Минусы: Пока не вижу Описание: Занятия проход...       4       5\n",
       "74944    Лариса Георгиевна произвела на меня только са...       4       5\n",
       "91468    Прекрасный преподаватель! Я очень рада  что н...       5       5\n",
       "89688    Плюсы: Чётко работает на результат. Минусы: Н...       5       5\n",
       "74783    Впечатление о работе репетитора хорошее. Илья...       5       5\n",
       "90980    У нас с Сергеем Арленовичем занятие прошло от...       5       5\n",
       "93826    Репетитор мне нравится и результаты хорошие. ...       5       5\n",
       "94820    Отличный преподаватель! Цуй Янь устраивает на...       5       5\n",
       "74572    Анатолий Петрович – очень ответственный челов...       5       5\n",
       "93755    Мы продолжаем сотрудничать с Людмилой Алексан...       5       5\n",
       "96205    Специалист помог решить поставленную задачу. ...       5       5\n",
       "90271    С Яной Олеговной занимаемся в настоящее время...       5       5\n",
       "89065    Мне нравится педагог. Занятия проходят хорошо...       5       5\n",
       "88582    Дочь сдала ЕГЭ на 66 баллов. Чуть-чуть больше...       5       4\n",
       "93249    За несколько занятий Любовь Борисовна помогла...       5       5\n",
       "93592    Хороший педагог. Он быстро объяснил мне суть ...       5       5\n",
       "94133    Спасибо Михаилу за работу и результат! Делали...       5       5\n",
       "86010    Личные и профессиональные качества Юлии Юрьев...       5       5\n",
       "88716    Мы отлично позанимались с репетитором по физи...       5       5\n",
       "94829    Мой сын - отличник  поэтому нас не интересует...       5       5\n",
       "96416    Айгуль Рашитовна  замечательный преподаватель...       5       5\n",
       "88800    У нас все замечательно: налажено взаимопонима...       5       5\n",
       "94552    То что так долго искала! Качество уборки устр...       5       2\n",
       "72836    Плюсы: Ответственная подготовка к занятию уме...       5       5\n",
       "94373    Единственный минус в нашем с Андреем Анатолье...       5       5\n",
       "95135    Все прекрасно. Очень довольны работой этого о...       5       5\n",
       "87025    Спасибо большое Светлане Николаевне! Она помо...       5       5\n",
       "95594    Плюсы: Хорошо подается материал  отзывчивый и...       5       5\n",
       "94474    Плюсы: + доступное объяснение тем. + подход к...       5       5\n",
       "74240    Самые хорошие отзывы просто занятия прекратил...       5       5\n",
       "94534    Алисе очень нравится Анастасия Игоревна. Ребе...       5       5"
      ]
     },
     "execution_count": 87,
     "metadata": {},
     "output_type": "execute_result"
    }
   ],
   "source": [
    "df_ComplementNB[:50].sort_values(by = ['y_test'])"
   ]
  },
  {
   "cell_type": "markdown",
   "id": "cca6a9d0",
   "metadata": {},
   "source": [
    "Выведем строки, где y_test отличается от y_pred больше, чем на 2 и рассмотрим несколько примеров:"
   ]
  },
  {
   "cell_type": "code",
   "execution_count": 88,
   "id": "695fd3d2",
   "metadata": {},
   "outputs": [
    {
     "data": {
      "text/html": [
       "<div>\n",
       "<style scoped>\n",
       "    .dataframe tbody tr th:only-of-type {\n",
       "        vertical-align: middle;\n",
       "    }\n",
       "\n",
       "    .dataframe tbody tr th {\n",
       "        vertical-align: top;\n",
       "    }\n",
       "\n",
       "    .dataframe thead th {\n",
       "        text-align: right;\n",
       "    }\n",
       "</style>\n",
       "<table border=\"1\" class=\"dataframe\">\n",
       "  <thead>\n",
       "    <tr style=\"text-align: right;\">\n",
       "      <th></th>\n",
       "      <th>x_test</th>\n",
       "      <th>y_test</th>\n",
       "      <th>y_pred</th>\n",
       "    </tr>\n",
       "  </thead>\n",
       "  <tbody>\n",
       "    <tr>\n",
       "      <th>94552</th>\n",
       "      <td>То что так долго искала! Качество уборки устр...</td>\n",
       "      <td>5</td>\n",
       "      <td>2</td>\n",
       "    </tr>\n",
       "    <tr>\n",
       "      <th>97793</th>\n",
       "      <td>Плюсы: + Описание: Проводит занятия интересно...</td>\n",
       "      <td>5</td>\n",
       "      <td>3</td>\n",
       "    </tr>\n",
       "    <tr>\n",
       "      <th>92804</th>\n",
       "      <td>Не знаю  много-ли таких же бесперспективных у...</td>\n",
       "      <td>5</td>\n",
       "      <td>2</td>\n",
       "    </tr>\n",
       "    <tr>\n",
       "      <th>112674</th>\n",
       "      <td>Убралась не так  как я хотела. Плинтуса не пр...</td>\n",
       "      <td>4</td>\n",
       "      <td>2</td>\n",
       "    </tr>\n",
       "    <tr>\n",
       "      <th>51976</th>\n",
       "      <td>Елена Дмитриевна грамотный репетитор бразильс...</td>\n",
       "      <td>4</td>\n",
       "      <td>2</td>\n",
       "    </tr>\n",
       "    <tr>\n",
       "      <th>90844</th>\n",
       "      <td>Мы сдали на четвёрку. Результатом довольны. А...</td>\n",
       "      <td>5</td>\n",
       "      <td>2</td>\n",
       "    </tr>\n",
       "    <tr>\n",
       "      <th>59994</th>\n",
       "      <td>Ребёнку понравилось . К сожалению родители к ...</td>\n",
       "      <td>4</td>\n",
       "      <td>2</td>\n",
       "    </tr>\n",
       "    <tr>\n",
       "      <th>94863</th>\n",
       "      <td>Плюсы: Хороший репетитор Описание: 2 занятия ...</td>\n",
       "      <td>5</td>\n",
       "      <td>2</td>\n",
       "    </tr>\n",
       "    <tr>\n",
       "      <th>92179</th>\n",
       "      <td>Профи своего дела. Очень помогла с медиаплани...</td>\n",
       "      <td>5</td>\n",
       "      <td>2</td>\n",
       "    </tr>\n",
       "    <tr>\n",
       "      <th>40556</th>\n",
       "      <td>Как преподаватель по английскому языку Карл х...</td>\n",
       "      <td>4</td>\n",
       "      <td>2</td>\n",
       "    </tr>\n",
       "  </tbody>\n",
       "</table>\n",
       "</div>"
      ],
      "text/plain": [
       "                                                   x_test  y_test  y_pred\n",
       "94552    То что так долго искала! Качество уборки устр...       5       2\n",
       "97793    Плюсы: + Описание: Проводит занятия интересно...       5       3\n",
       "92804    Не знаю  много-ли таких же бесперспективных у...       5       2\n",
       "112674   Убралась не так  как я хотела. Плинтуса не пр...       4       2\n",
       "51976    Елена Дмитриевна грамотный репетитор бразильс...       4       2\n",
       "90844    Мы сдали на четвёрку. Результатом довольны. А...       5       2\n",
       "59994    Ребёнку понравилось . К сожалению родители к ...       4       2\n",
       "94863    Плюсы: Хороший репетитор Описание: 2 занятия ...       5       2\n",
       "92179    Профи своего дела. Очень помогла с медиаплани...       5       2\n",
       "40556    Как преподаватель по английскому языку Карл х...       4       2"
      ]
     },
     "execution_count": 88,
     "metadata": {},
     "output_type": "execute_result"
    }
   ],
   "source": [
    "df_ComplementNB.loc[(df_ComplementNB['y_test'] - df_ComplementNB['y_pred']) > 1][:10]"
   ]
  },
  {
   "cell_type": "code",
   "execution_count": 89,
   "id": "3fb9ad38",
   "metadata": {},
   "outputs": [
    {
     "ename": "KeyError",
     "evalue": "95129",
     "output_type": "error",
     "traceback": [
      "\u001b[0;31m---------------------------------------------------------------------------\u001b[0m",
      "\u001b[0;31mKeyError\u001b[0m                                  Traceback (most recent call last)",
      "File \u001b[0;32m/usr/local/lib/python3.10/site-packages/pandas/core/indexes/base.py:3629\u001b[0m, in \u001b[0;36mIndex.get_loc\u001b[0;34m(self, key, method, tolerance)\u001b[0m\n\u001b[1;32m   3628\u001b[0m \u001b[38;5;28;01mtry\u001b[39;00m:\n\u001b[0;32m-> 3629\u001b[0m     \u001b[38;5;28;01mreturn\u001b[39;00m \u001b[38;5;28;43mself\u001b[39;49m\u001b[38;5;241;43m.\u001b[39;49m\u001b[43m_engine\u001b[49m\u001b[38;5;241;43m.\u001b[39;49m\u001b[43mget_loc\u001b[49m\u001b[43m(\u001b[49m\u001b[43mcasted_key\u001b[49m\u001b[43m)\u001b[49m\n\u001b[1;32m   3630\u001b[0m \u001b[38;5;28;01mexcept\u001b[39;00m \u001b[38;5;167;01mKeyError\u001b[39;00m \u001b[38;5;28;01mas\u001b[39;00m err:\n",
      "File \u001b[0;32m/usr/local/lib/python3.10/site-packages/pandas/_libs/index.pyx:136\u001b[0m, in \u001b[0;36mpandas._libs.index.IndexEngine.get_loc\u001b[0;34m()\u001b[0m\n",
      "File \u001b[0;32m/usr/local/lib/python3.10/site-packages/pandas/_libs/index.pyx:163\u001b[0m, in \u001b[0;36mpandas._libs.index.IndexEngine.get_loc\u001b[0;34m()\u001b[0m\n",
      "File \u001b[0;32mpandas/_libs/hashtable_class_helper.pxi:2131\u001b[0m, in \u001b[0;36mpandas._libs.hashtable.Int64HashTable.get_item\u001b[0;34m()\u001b[0m\n",
      "File \u001b[0;32mpandas/_libs/hashtable_class_helper.pxi:2140\u001b[0m, in \u001b[0;36mpandas._libs.hashtable.Int64HashTable.get_item\u001b[0;34m()\u001b[0m\n",
      "\u001b[0;31mKeyError\u001b[0m: 95129",
      "\nThe above exception was the direct cause of the following exception:\n",
      "\u001b[0;31mKeyError\u001b[0m                                  Traceback (most recent call last)",
      "Cell \u001b[0;32mIn [89], line 1\u001b[0m\n\u001b[0;32m----> 1\u001b[0m \u001b[43mdf_ComplementNB\u001b[49m\u001b[38;5;241;43m.\u001b[39;49m\u001b[43mx_test\u001b[49m\u001b[43m[\u001b[49m\u001b[38;5;241;43m95129\u001b[39;49m\u001b[43m]\u001b[49m\n",
      "File \u001b[0;32m/usr/local/lib/python3.10/site-packages/pandas/core/series.py:958\u001b[0m, in \u001b[0;36mSeries.__getitem__\u001b[0;34m(self, key)\u001b[0m\n\u001b[1;32m    955\u001b[0m     \u001b[38;5;28;01mreturn\u001b[39;00m \u001b[38;5;28mself\u001b[39m\u001b[38;5;241m.\u001b[39m_values[key]\n\u001b[1;32m    957\u001b[0m \u001b[38;5;28;01melif\u001b[39;00m key_is_scalar:\n\u001b[0;32m--> 958\u001b[0m     \u001b[38;5;28;01mreturn\u001b[39;00m \u001b[38;5;28;43mself\u001b[39;49m\u001b[38;5;241;43m.\u001b[39;49m\u001b[43m_get_value\u001b[49m\u001b[43m(\u001b[49m\u001b[43mkey\u001b[49m\u001b[43m)\u001b[49m\n\u001b[1;32m    960\u001b[0m \u001b[38;5;28;01mif\u001b[39;00m is_hashable(key):\n\u001b[1;32m    961\u001b[0m     \u001b[38;5;66;03m# Otherwise index.get_value will raise InvalidIndexError\u001b[39;00m\n\u001b[1;32m    962\u001b[0m     \u001b[38;5;28;01mtry\u001b[39;00m:\n\u001b[1;32m    963\u001b[0m         \u001b[38;5;66;03m# For labels that don't resolve as scalars like tuples and frozensets\u001b[39;00m\n",
      "File \u001b[0;32m/usr/local/lib/python3.10/site-packages/pandas/core/series.py:1069\u001b[0m, in \u001b[0;36mSeries._get_value\u001b[0;34m(self, label, takeable)\u001b[0m\n\u001b[1;32m   1066\u001b[0m     \u001b[38;5;28;01mreturn\u001b[39;00m \u001b[38;5;28mself\u001b[39m\u001b[38;5;241m.\u001b[39m_values[label]\n\u001b[1;32m   1068\u001b[0m \u001b[38;5;66;03m# Similar to Index.get_value, but we do not fall back to positional\u001b[39;00m\n\u001b[0;32m-> 1069\u001b[0m loc \u001b[38;5;241m=\u001b[39m \u001b[38;5;28;43mself\u001b[39;49m\u001b[38;5;241;43m.\u001b[39;49m\u001b[43mindex\u001b[49m\u001b[38;5;241;43m.\u001b[39;49m\u001b[43mget_loc\u001b[49m\u001b[43m(\u001b[49m\u001b[43mlabel\u001b[49m\u001b[43m)\u001b[49m\n\u001b[1;32m   1070\u001b[0m \u001b[38;5;28;01mreturn\u001b[39;00m \u001b[38;5;28mself\u001b[39m\u001b[38;5;241m.\u001b[39mindex\u001b[38;5;241m.\u001b[39m_get_values_for_loc(\u001b[38;5;28mself\u001b[39m, loc, label)\n",
      "File \u001b[0;32m/usr/local/lib/python3.10/site-packages/pandas/core/indexes/base.py:3631\u001b[0m, in \u001b[0;36mIndex.get_loc\u001b[0;34m(self, key, method, tolerance)\u001b[0m\n\u001b[1;32m   3629\u001b[0m     \u001b[38;5;28;01mreturn\u001b[39;00m \u001b[38;5;28mself\u001b[39m\u001b[38;5;241m.\u001b[39m_engine\u001b[38;5;241m.\u001b[39mget_loc(casted_key)\n\u001b[1;32m   3630\u001b[0m \u001b[38;5;28;01mexcept\u001b[39;00m \u001b[38;5;167;01mKeyError\u001b[39;00m \u001b[38;5;28;01mas\u001b[39;00m err:\n\u001b[0;32m-> 3631\u001b[0m     \u001b[38;5;28;01mraise\u001b[39;00m \u001b[38;5;167;01mKeyError\u001b[39;00m(key) \u001b[38;5;28;01mfrom\u001b[39;00m \u001b[38;5;21;01merr\u001b[39;00m\n\u001b[1;32m   3632\u001b[0m \u001b[38;5;28;01mexcept\u001b[39;00m \u001b[38;5;167;01mTypeError\u001b[39;00m:\n\u001b[1;32m   3633\u001b[0m     \u001b[38;5;66;03m# If we have a listlike key, _check_indexing_error will raise\u001b[39;00m\n\u001b[1;32m   3634\u001b[0m     \u001b[38;5;66;03m#  InvalidIndexError. Otherwise we fall through and re-raise\u001b[39;00m\n\u001b[1;32m   3635\u001b[0m     \u001b[38;5;66;03m#  the TypeError.\u001b[39;00m\n\u001b[1;32m   3636\u001b[0m     \u001b[38;5;28mself\u001b[39m\u001b[38;5;241m.\u001b[39m_check_indexing_error(key)\n",
      "\u001b[0;31mKeyError\u001b[0m: 95129"
     ]
    }
   ],
   "source": [
    "df_ComplementNB.x_test[95129]"
   ]
  },
  {
   "cell_type": "code",
   "execution_count": null,
   "id": "00a3c0e6",
   "metadata": {},
   "outputs": [],
   "source": [
    "df_ComplementNB.x_test[98512]"
   ]
  },
  {
   "cell_type": "markdown",
   "id": "6fd0b4bd",
   "metadata": {},
   "source": [
    "В обоих примерах модель предсказывала оценки ниже истинных. Возможно повлияли такие слова, как: \"тяжелый\", \"мучает\", \"ошибрк\", \"заминок\". Теперь посмотрим примеры, когда модель предсказывает оценки выше истинных:"
   ]
  },
  {
   "cell_type": "code",
   "execution_count": null,
   "id": "4da72329",
   "metadata": {},
   "outputs": [],
   "source": [
    "df_ComplementNB.loc[(df_ComplementNB['y_pred'] - df_ComplementNB['y_test']) > 1][:10]"
   ]
  },
  {
   "cell_type": "markdown",
   "id": "2890460a",
   "metadata": {},
   "source": [
    "Есть отзывы с сарказмом, что модели сложно оценить:"
   ]
  },
  {
   "cell_type": "code",
   "execution_count": null,
   "id": "70010872",
   "metadata": {},
   "outputs": [],
   "source": [
    "df_ComplementNB.x_test[107561]"
   ]
  },
  {
   "cell_type": "markdown",
   "id": "8161cbff",
   "metadata": {},
   "source": [
    "В случае второго отзыва, точно повлияли слова: \"пунктуальность\", \"хорошего\":"
   ]
  },
  {
   "cell_type": "code",
   "execution_count": null,
   "id": "2d154960",
   "metadata": {},
   "outputs": [],
   "source": [
    "df_ComplementNB.x_test[41501]"
   ]
  },
  {
   "cell_type": "markdown",
   "id": "85f2f698",
   "metadata": {},
   "source": [
    "Посмотрим на accuacy классификатора RandomForestClassifier:"
   ]
  },
  {
   "cell_type": "code",
   "execution_count": null,
   "id": "4af2f26b",
   "metadata": {},
   "outputs": [],
   "source": [
    "best_model = RandomForestClassifier()\n",
    "best_model.fit(X_train, y_train)\n",
    "y_pred = best_model.predict(X_test)\n",
    "\n",
    "\n",
    "y_test_index = y_test.index.tolist()\n",
    "d = {'x_test': comments.loc[y_test_index].comment.values, 'y_test': y_test, 'y_pred': y_pred}\n",
    "df_RandomForestClassifier = pd.DataFrame(d)"
   ]
  },
  {
   "cell_type": "code",
   "execution_count": null,
   "id": "eb646031",
   "metadata": {},
   "outputs": [],
   "source": [
    "accuracy_score(y_pred,y_test)"
   ]
  },
  {
   "cell_type": "markdown",
   "id": "92d28953",
   "metadata": {},
   "source": [
    "## GridSearchCV"
   ]
  },
  {
   "cell_type": "code",
   "execution_count": null,
   "id": "77592eff",
   "metadata": {},
   "outputs": [],
   "source": [
    "params = [\n",
    "    {\n",
    "        'C' : [0.5, 1.0, 5.0], \n",
    "        'tol' : [1e-4, 1e-5]\n",
    "    }, {  \n",
    "        'n_estimators': [20, 40, 50],\n",
    "        'max_depth': [4, 5, 6],\n",
    "        'max_features': [3, 5, 10],\n",
    "        'min_samples_split': [3, 5, 10, 15],\n",
    "    }, {\n",
    "        'alpha' : [0.01, 0.1, 1.0, 2.0, 5.0]\n",
    "    }\n",
    "]"
   ]
  },
  {
   "cell_type": "code",
   "execution_count": null,
   "id": "ae70fe5f",
   "metadata": {},
   "outputs": [],
   "source": [
    "def model_best_params_score(model, criterion, params):\n",
    "    grid_CV_1 = GridSearchCV(model, param_grid = params, cv=2, scoring='f1-score')\n",
    "    grid_CV_1.fit(X_train, y_train)\n",
    "    best_model = grid_CV_1.best_estimator_\n",
    "    y_pred = best_model.predict(X_test) \n",
    "    return criterion(y_pred, y_test, average='weighted', zero_division=0), grid_CV_1.best_params_\n",
    "\n",
    "model_best_params = {}\n",
    "\n",
    "for i in range(3):\n",
    "    model_best_params[models_name[i]] = [model_best_params_score(models[i],precision_score,params[i])[0],\n",
    "                                         model_best_params_score(models[i],recall_score,params[i])[0],\n",
    "                                         model_best_params_score(models[i],f1_score,params[i])[0],\n",
    "                                         model_best_params_score(models[i],f1_score,params[i])[1]]\n",
    "    \n",
    "models_best_params = pd.DataFrame(model_best_params, index = ['precision', 'recall', 'f1_weighted','best_params'])"
   ]
  },
  {
   "cell_type": "code",
   "execution_count": null,
   "id": "06403c0d",
   "metadata": {},
   "outputs": [],
   "source": [
    "models_best_params"
   ]
  },
  {
   "cell_type": "code",
   "execution_count": null,
   "id": "c5c8763a",
   "metadata": {},
   "outputs": [],
   "source": [
    "models_best_params[3:].values"
   ]
  },
  {
   "cell_type": "code",
   "execution_count": null,
   "id": "9ae83ed4",
   "metadata": {},
   "outputs": [],
   "source": [
    "best_model = RandomForestClassifier(max_depth=4, max_features=3, min_samples_split=3, n_estimators=20)\n",
    "best_model.fit(X_train, y_train)\n",
    "y_pred = best_model.predict(X_test)\n",
    "\n",
    "y_test_index = y_test.index.tolist()\n",
    "d = {'x_test': comments.loc[y_test_index].comment.values, 'y_test': y_test, 'y_pred': y_pred}\n",
    "df_RandomForestC = pd.DataFrame(d)"
   ]
  },
  {
   "cell_type": "code",
   "execution_count": null,
   "id": "225559c6",
   "metadata": {},
   "outputs": [],
   "source": [
    "df_RandomForestC.loc[df_RandomForestC['y_pred'] != 5]"
   ]
  },
  {
   "cell_type": "markdown",
   "id": "9afdeef9",
   "metadata": {},
   "source": [
    "Значение precision у RandomForestClassifier = 1.0, потому что модель предсказала для всех данных значение 5, что можно было предполагать, учитывая небольшой дисбаланс."
   ]
  },
  {
   "cell_type": "markdown",
   "id": "8769fd4a",
   "metadata": {},
   "source": [
    "С гридом, на удивление, модели построились не такими качественными, как с дефолтными параметрами. Лучшими остаеюся модели ComplementNB и RandomForestClassifier с дефолтными значениями."
   ]
  },
  {
   "cell_type": "code",
   "execution_count": null,
   "id": "4d000374",
   "metadata": {},
   "outputs": [],
   "source": []
  }
 ],
 "metadata": {
  "kernelspec": {
   "display_name": "Python 3 (ipykernel)",
   "language": "python",
   "name": "python3"
  },
  "language_info": {
   "codemirror_mode": {
    "name": "ipython",
    "version": 3
   },
   "file_extension": ".py",
   "mimetype": "text/x-python",
   "name": "python",
   "nbconvert_exporter": "python",
   "pygments_lexer": "ipython3",
   "version": "3.10.9"
  }
 },
 "nbformat": 4,
 "nbformat_minor": 5
}
